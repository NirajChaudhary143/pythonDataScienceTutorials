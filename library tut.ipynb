{
 "cells": [
  {
   "cell_type": "code",
   "execution_count": 2,
   "id": "8cf0d351",
   "metadata": {},
   "outputs": [],
   "source": [
    "import numpy as np"
   ]
  },
  {
   "cell_type": "code",
   "execution_count": 3,
   "id": "45673f03",
   "metadata": {},
   "outputs": [],
   "source": [
    "l1 = [1,2,3,4]"
   ]
  },
  {
   "cell_type": "code",
   "execution_count": 4,
   "id": "d610b925",
   "metadata": {},
   "outputs": [],
   "source": [
    "n1=np.array(l1)"
   ]
  },
  {
   "cell_type": "code",
   "execution_count": 5,
   "id": "196da5cd",
   "metadata": {},
   "outputs": [
    {
     "data": {
      "text/plain": [
       "numpy.ndarray"
      ]
     },
     "execution_count": 5,
     "metadata": {},
     "output_type": "execute_result"
    }
   ],
   "source": [
    "type(n1)"
   ]
  },
  {
   "cell_type": "code",
   "execution_count": 6,
   "id": "4d6e9d1b",
   "metadata": {},
   "outputs": [],
   "source": [
    "n2=np.array([[1,2,3,4],[5,6,7,8]])"
   ]
  },
  {
   "cell_type": "code",
   "execution_count": 7,
   "id": "50336fbb",
   "metadata": {},
   "outputs": [
    {
     "data": {
      "text/plain": [
       "numpy.ndarray"
      ]
     },
     "execution_count": 7,
     "metadata": {},
     "output_type": "execute_result"
    }
   ],
   "source": [
    "type(n2)"
   ]
  },
  {
   "cell_type": "code",
   "execution_count": 8,
   "id": "8cd2e8d3",
   "metadata": {},
   "outputs": [
    {
     "data": {
      "text/plain": [
       "array([[1, 2, 3, 4],\n",
       "       [5, 6, 7, 8]])"
      ]
     },
     "execution_count": 8,
     "metadata": {},
     "output_type": "execute_result"
    }
   ],
   "source": [
    "n2"
   ]
  },
  {
   "cell_type": "code",
   "execution_count": null,
   "id": "87e550ec",
   "metadata": {},
   "outputs": [],
   "source": [
    "#initializing Numpy Array with zero"
   ]
  },
  {
   "cell_type": "code",
   "execution_count": 9,
   "id": "7a64d979",
   "metadata": {},
   "outputs": [],
   "source": [
    "n3=np.zeros((1,2))"
   ]
  },
  {
   "cell_type": "code",
   "execution_count": 10,
   "id": "4699b0c7",
   "metadata": {},
   "outputs": [
    {
     "data": {
      "text/plain": [
       "array([[0., 0.]])"
      ]
     },
     "execution_count": 10,
     "metadata": {},
     "output_type": "execute_result"
    }
   ],
   "source": [
    "n3"
   ]
  },
  {
   "cell_type": "code",
   "execution_count": 11,
   "id": "9c7b76a7",
   "metadata": {},
   "outputs": [
    {
     "data": {
      "text/plain": [
       "numpy.ndarray"
      ]
     },
     "execution_count": 11,
     "metadata": {},
     "output_type": "execute_result"
    }
   ],
   "source": [
    "type(n3)"
   ]
  },
  {
   "cell_type": "code",
   "execution_count": 12,
   "id": "2ee17e74",
   "metadata": {},
   "outputs": [],
   "source": [
    "n4=np.zeros((5,5))#5x5 matrix created"
   ]
  },
  {
   "cell_type": "code",
   "execution_count": 13,
   "id": "32fa6b1e",
   "metadata": {},
   "outputs": [
    {
     "data": {
      "text/plain": [
       "array([[0., 0., 0., 0., 0.],\n",
       "       [0., 0., 0., 0., 0.],\n",
       "       [0., 0., 0., 0., 0.],\n",
       "       [0., 0., 0., 0., 0.],\n",
       "       [0., 0., 0., 0., 0.]])"
      ]
     },
     "execution_count": 13,
     "metadata": {},
     "output_type": "execute_result"
    }
   ],
   "source": [
    "n4"
   ]
  },
  {
   "cell_type": "code",
   "execution_count": null,
   "id": "511bd4cb",
   "metadata": {},
   "outputs": [],
   "source": [
    "#initializing Numpy Array with same number"
   ]
  },
  {
   "cell_type": "code",
   "execution_count": 14,
   "id": "a4baa919",
   "metadata": {},
   "outputs": [],
   "source": [
    "n5=np.full((2,3),4)"
   ]
  },
  {
   "cell_type": "code",
   "execution_count": 15,
   "id": "5967df69",
   "metadata": {},
   "outputs": [
    {
     "data": {
      "text/plain": [
       "array([[4, 4, 4],\n",
       "       [4, 4, 4]])"
      ]
     },
     "execution_count": 15,
     "metadata": {},
     "output_type": "execute_result"
    }
   ],
   "source": [
    "n5"
   ]
  },
  {
   "cell_type": "code",
   "execution_count": 16,
   "id": "f0b9e983",
   "metadata": {},
   "outputs": [],
   "source": [
    "#initializing Numpy Array with a range"
   ]
  },
  {
   "cell_type": "code",
   "execution_count": 17,
   "id": "5f349a8d",
   "metadata": {},
   "outputs": [
    {
     "data": {
      "text/plain": [
       "array([1, 2, 3, 4, 5, 6, 7, 8, 9])"
      ]
     },
     "execution_count": 17,
     "metadata": {},
     "output_type": "execute_result"
    }
   ],
   "source": [
    "n6=np.arange(1,10)\n",
    "n6"
   ]
  },
  {
   "cell_type": "code",
   "execution_count": 19,
   "id": "493a5e33",
   "metadata": {},
   "outputs": [
    {
     "data": {
      "text/plain": [
       "array([ 0,  5, 10, 15, 20, 25])"
      ]
     },
     "execution_count": 19,
     "metadata": {},
     "output_type": "execute_result"
    }
   ],
   "source": [
    "n7=np.arange(0,30,5) #here 5 means numver of list is 5\n",
    "n7"
   ]
  },
  {
   "cell_type": "code",
   "execution_count": 20,
   "id": "d32dc176",
   "metadata": {},
   "outputs": [],
   "source": [
    "#initializing Numpy Array with random number"
   ]
  },
  {
   "cell_type": "code",
   "execution_count": 21,
   "id": "d42d526c",
   "metadata": {
    "scrolled": true
   },
   "outputs": [
    {
     "data": {
      "text/plain": [
       "array([69, 20, 98,  5, 84,  6, 33, 42,  6, 83])"
      ]
     },
     "execution_count": 21,
     "metadata": {},
     "output_type": "execute_result"
    }
   ],
   "source": [
    "n8=np.random.randint(0,100,10) #here 10 means number of random value is 10\n",
    "n8"
   ]
  },
  {
   "cell_type": "code",
   "execution_count": 24,
   "id": "406d7370",
   "metadata": {},
   "outputs": [],
   "source": [
    "#checking the shape of NUmpy Array"
   ]
  },
  {
   "cell_type": "code",
   "execution_count": 32,
   "id": "bb8dd209",
   "metadata": {},
   "outputs": [
    {
     "data": {
      "text/plain": [
       "array([[1, 2, 3, 4],\n",
       "       [5, 6, 7, 8]])"
      ]
     },
     "execution_count": 32,
     "metadata": {},
     "output_type": "execute_result"
    }
   ],
   "source": [
    "n9=np.array([[1,2,3,4],[5,6,7,8]])\n",
    "n9"
   ]
  },
  {
   "cell_type": "code",
   "execution_count": 33,
   "id": "bf439464",
   "metadata": {},
   "outputs": [
    {
     "data": {
      "text/plain": [
       "(2, 4)"
      ]
     },
     "execution_count": 33,
     "metadata": {},
     "output_type": "execute_result"
    }
   ],
   "source": [
    "n9.shape"
   ]
  },
  {
   "cell_type": "code",
   "execution_count": 34,
   "id": "442a8724",
   "metadata": {},
   "outputs": [],
   "source": [
    "n9.shape =(4,2) #converting numpy array shape from 2x4 to 4x2"
   ]
  },
  {
   "cell_type": "code",
   "execution_count": 35,
   "id": "1a1314b1",
   "metadata": {},
   "outputs": [
    {
     "data": {
      "text/plain": [
       "array([[1, 2],\n",
       "       [3, 4],\n",
       "       [5, 6],\n",
       "       [7, 8]])"
      ]
     },
     "execution_count": 35,
     "metadata": {},
     "output_type": "execute_result"
    }
   ],
   "source": [
    "n9"
   ]
  },
  {
   "cell_type": "code",
   "execution_count": null,
   "id": "d381313d",
   "metadata": {},
   "outputs": [],
   "source": []
  }
 ],
 "metadata": {
  "kernelspec": {
   "display_name": "Python 3 (ipykernel)",
   "language": "python",
   "name": "python3"
  },
  "language_info": {
   "codemirror_mode": {
    "name": "ipython",
    "version": 3
   },
   "file_extension": ".py",
   "mimetype": "text/x-python",
   "name": "python",
   "nbconvert_exporter": "python",
   "pygments_lexer": "ipython3",
   "version": "3.9.13"
  }
 },
 "nbformat": 4,
 "nbformat_minor": 5
}
