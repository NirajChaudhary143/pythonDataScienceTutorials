{
 "cells": [
  {
   "cell_type": "code",
   "execution_count": 29,
   "id": "ed2da541",
   "metadata": {},
   "outputs": [],
   "source": [
    "class Phone:\n",
    "    def set_color(self,col):\n",
    "        self.col=col\n",
    "    def set_cost(self,cost):\n",
    "        self.cost=cost\n",
    "    def show_color(self):\n",
    "        print(\"Phone color is\", self.col)\n",
    "    def show_cost(self):\n",
    "        print(\"Phone cost is\", self.cost)\n",
    "    def make_call(self):\n",
    "        print(\"making a call...\")\n",
    "    def play_game(self):\n",
    "        print(\"Playing a game.\")"
   ]
  },
  {
   "cell_type": "code",
   "execution_count": 30,
   "id": "0a41479e",
   "metadata": {},
   "outputs": [],
   "source": [
    "p1=Phone()"
   ]
  },
  {
   "cell_type": "code",
   "execution_count": 34,
   "id": "ea8293c6",
   "metadata": {},
   "outputs": [
    {
     "name": "stdout",
     "output_type": "stream",
     "text": [
      "Phone color is red\n",
      "***********\n",
      "Phone cost is 60000\n"
     ]
    }
   ],
   "source": [
    "p1.set_color(\"red\")\n",
    "p1.show_color()\n",
    "print(\"***********\")\n",
    "p1.set_cost(60000)\n",
    "p1.show_cost()"
   ]
  },
  {
   "cell_type": "code",
   "execution_count": 35,
   "id": "9f07c75e",
   "metadata": {},
   "outputs": [],
   "source": [
    "#Constructor in phyton"
   ]
  },
  {
   "cell_type": "code",
   "execution_count": null,
   "id": "99f7d86b",
   "metadata": {},
   "outputs": [],
   "source": []
  }
 ],
 "metadata": {
  "kernelspec": {
   "display_name": "Python 3 (ipykernel)",
   "language": "python",
   "name": "python3"
  },
  "language_info": {
   "codemirror_mode": {
    "name": "ipython",
    "version": 3
   },
   "file_extension": ".py",
   "mimetype": "text/x-python",
   "name": "python",
   "nbconvert_exporter": "python",
   "pygments_lexer": "ipython3",
   "version": "3.9.13"
  }
 },
 "nbformat": 4,
 "nbformat_minor": 5
}
